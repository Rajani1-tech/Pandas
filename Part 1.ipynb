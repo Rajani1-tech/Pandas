{
 "cells": [
  {
   "cell_type": "code",
   "execution_count": 1,
   "id": "ca55ad93",
   "metadata": {},
   "outputs": [
    {
     "name": "stdout",
     "output_type": "stream",
     "text": [
      "Series([], dtype: float64)\n"
     ]
    },
    {
     "name": "stderr",
     "output_type": "stream",
     "text": [
      "C:\\Users\\Noice\\AppData\\Local\\Temp\\ipykernel_15004\\2302734913.py:7: FutureWarning: The default dtype for empty Series will be 'object' instead of 'float64' in a future version. Specify a dtype explicitly to silence this warning.\n",
      "  my_series = pd.Series()\n"
     ]
    }
   ],
   "source": [
    "# A pandas series is a data sstructure that stores data in the form of\n",
    "# a column. A series is normally used to store information about a particular attributes.\n",
    "# there are different ways to create a series with pandas.\n",
    "\n",
    "#empty series\n",
    "import pandas as pd\n",
    "my_series = pd.Series()\n",
    "print(my_series)"
   ]
  },
  {
   "cell_type": "code",
   "execution_count": 2,
   "id": "d8a12981",
   "metadata": {},
   "outputs": [
    {
     "name": "stdout",
     "output_type": "stream",
     "text": [
      "0    10\n",
      "1    20\n",
      "2    30\n",
      "3    40\n",
      "4    50\n",
      "dtype: int32\n"
     ]
    }
   ],
   "source": [
    "# we can also create a series a NumPy array. but, first we need to \n",
    "# pass the array to the Series() class constructor as shown below:\n",
    "import pandas as pd\n",
    "import numpy as np\n",
    "my_array = np.array([10,20,30,40,50])\n",
    "my_series = pd.Series(my_array)\n",
    "print(my_series)"
   ]
  },
  {
   "cell_type": "code",
   "execution_count": 4,
   "id": "b050374c",
   "metadata": {},
   "outputs": [
    {
     "name": "stdout",
     "output_type": "stream",
     "text": [
      "num1    10\n",
      "num2    20\n",
      "num3    30\n",
      "num4    40\n",
      "num5    50\n",
      "dtype: int32\n"
     ]
    }
   ],
   "source": [
    "# we can also define custom indexes for our series. In order to do that\n",
    "# we need to pass our list of indees to the indexed attribute of the series class.\n",
    "# series with custom indexes\n",
    "import pandas as pd\n",
    "import numpy as np\n",
    "my_array = np.array([10,20,30,40,50])\n",
    "my_series = pd.Series(my_array, index = [\"num1\", \"num2\", \"num3\", \"num4\",\"num5\"])\n",
    "print(my_series)"
   ]
  },
  {
   "cell_type": "code",
   "execution_count": 8,
   "id": "33b2e4a4",
   "metadata": {},
   "outputs": [
    {
     "name": "stdout",
     "output_type": "stream",
     "text": [
      "num1    10\n",
      "num2    20\n",
      "num3    30\n",
      "num4    40\n",
      "num5    50\n",
      "dtype: int64\n"
     ]
    }
   ],
   "source": [
    "#series using a list\n",
    "import pandas as pd\n",
    "import numpy as np\n",
    "my_series = pd.Series([10,20,30,40,50], index = [\"num1\", \"num2\",\"num3\", \"num4\",\"num5\"])\n",
    "print(my_series)"
   ]
  },
  {
   "cell_type": "code",
   "execution_count": 11,
   "id": "b1fe1b50",
   "metadata": {},
   "outputs": [
    {
     "name": "stdout",
     "output_type": "stream",
     "text": [
      "num1    25\n",
      "num2    25\n",
      "num3    25\n",
      "num4    25\n",
      "num5    25\n",
      "dtype: int64\n"
     ]
    }
   ],
   "source": [
    "# a scaler value can also be used to define a series.\n",
    "# series using a scaler\n",
    "import pandas as pd\n",
    "import numpy as np\n",
    "my_series = pd.Series(25, index = [\"num1\",\"num2\",\"num3\",\"num4\",\"num5\"])\n",
    "print(my_series)"
   ]
  },
  {
   "cell_type": "code",
   "execution_count": 13,
   "id": "8c645df4",
   "metadata": {},
   "outputs": [
    {
     "name": "stdout",
     "output_type": "stream",
     "text": [
      "7.0\n"
     ]
    }
   ],
   "source": [
    "# mean() function can be used to find tje mean of given arrays\n",
    "my_series = pd.Series([5,8,2,11,9])\n",
    "print(my_series.mean())"
   ]
  },
  {
   "cell_type": "code",
   "execution_count": 15,
   "id": "5cecaf75",
   "metadata": {},
   "outputs": [
    {
     "name": "stdout",
     "output_type": "stream",
     "text": [
      "8.0\n"
     ]
    }
   ],
   "source": [
    "# median() function can be used to find the median of an array.\n",
    "print(my_series.median())"
   ]
  },
  {
   "cell_type": "code",
   "execution_count": 16,
   "id": "5d65d81c",
   "metadata": {},
   "outputs": [
    {
     "name": "stdout",
     "output_type": "stream",
     "text": [
      "int64\n"
     ]
    }
   ],
   "source": [
    "# finding the data types\n",
    "print(my_series.dtype)"
   ]
  },
  {
   "cell_type": "code",
   "execution_count": null,
   "id": "0b9c53d2",
   "metadata": {},
   "outputs": [],
   "source": []
  }
 ],
 "metadata": {
  "kernelspec": {
   "display_name": "Python 3 (ipykernel)",
   "language": "python",
   "name": "python3"
  },
  "language_info": {
   "codemirror_mode": {
    "name": "ipython",
    "version": 3
   },
   "file_extension": ".py",
   "mimetype": "text/x-python",
   "name": "python",
   "nbconvert_exporter": "python",
   "pygments_lexer": "ipython3",
   "version": "3.9.12"
  }
 },
 "nbformat": 4,
 "nbformat_minor": 5
}
